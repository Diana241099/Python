{
  "nbformat": 4,
  "nbformat_minor": 0,
  "metadata": {
    "colab": {
      "provenance": [],
      "include_colab_link": true
    },
    "kernelspec": {
      "name": "python3",
      "display_name": "Python 3"
    },
    "language_info": {
      "name": "python"
    }
  },
  "cells": [
    {
      "cell_type": "markdown",
      "metadata": {
        "id": "view-in-github",
        "colab_type": "text"
      },
      "source": [
        "<a href=\"https://colab.research.google.com/github/Diana241099/Python/blob/main/2024_10_10_Hexadecimal_numbers_conversion.ipynb\" target=\"_parent\"><img src=\"https://colab.research.google.com/assets/colab-badge.svg\" alt=\"Open In Colab\"/></a>"
      ]
    },
    {
      "cell_type": "code",
      "execution_count": null,
      "metadata": {
        "colab": {
          "base_uri": "https://localhost:8080/"
        },
        "id": "7IjIJGU1TcM1",
        "outputId": "d0a99673-781a-4103-ca6b-124323c36867"
      },
      "outputs": [
        {
          "output_type": "stream",
          "name": "stdout",
          "text": [
            "Enter a number to convert: 45678\n",
            "\n",
            "before remainder = 14 number = 45678\n",
            "after number = 2854\n",
            "\n",
            "before remainder = 6 number = 2854\n",
            "after number = 178\n",
            "\n",
            "before remainder = 2 number = 178\n",
            "after number = 11\n",
            "\n",
            "before remainder = 11 number = 11\n",
            "after number = 0\n",
            "\n",
            " The hexadecimal representation of 45678 is: B26E\n"
          ]
        }
      ],
      "source": [
        "#CONVERT FROM DECIMAL TO HEX\n",
        "\n",
        "def convert_to_hex(number):\n",
        "\n",
        "#if the number inputed is 0, return the result as '0'\n",
        "  if number == 0:\n",
        "    return '0'\n",
        "\n",
        "#hex_chars is a string containing all hexadecimal digits: '0123456789ABCDEF'\n",
        "  hex_chars = '0123456789ABCDEF'\n",
        "  hex_result = ''\n",
        "\n",
        "#the loop\n",
        "  while number > 0:\n",
        "\n",
        "#for example, if number is 165333, remainder = 165333 % 16 = 5\n",
        "    remainder = number % 16\n",
        "    # added to try to understand algorithm\n",
        "    print(\"\\nbefore remainder = {} number = {}\".format(remainder,number))\n",
        "\n",
        "#retrieves the corresponding hexadecimal character for the current remainder\n",
        "    hex_result = hex_chars[remainder] + hex_result\n",
        "\n",
        "#update the number\n",
        "    number = number // 16\n",
        "\n",
        "    # added to try to understand algorithm\n",
        "    print(\"after number = {}\".format(number))\n",
        "  return hex_result\n",
        "\n",
        "#input the decimal number\n",
        "a = int(input(\"Enter a number to convert: \"))\n",
        "\n",
        "#print the result\n",
        "result = convert_to_hex(a)\n",
        "print(\"\\n\", f\"The hexadecimal representation of {a} is: {result}\")"
      ]
    },
    {
      "cell_type": "code",
      "source": [
        "#FROM HEX TO DECIMAL\n",
        "\n",
        "number = input(\"Enter a hex number: \")\n",
        "\n",
        "decimal_result = 0\n",
        "\n",
        "for char in number:\n",
        "  if char.isdigit():\n",
        "      value = int(char)\n",
        "  else:\n",
        "    #ord() is a Python function that returns the Unicode code point (or ASCII value) of a character\n",
        "      value = ord(char) - ord('A') + 10\n",
        "\n",
        "  decimal_result = decimal_result * 16 + value\n",
        "\n",
        "\n",
        "print(f\"The {number} in decimal format is: {decimal_result}\")"
      ],
      "metadata": {
        "colab": {
          "base_uri": "https://localhost:8080/"
        },
        "id": "tr8A_3oSI_Nk",
        "outputId": "de855e0a-769e-476b-abea-874fb1fefede"
      },
      "execution_count": null,
      "outputs": [
        {
          "output_type": "stream",
          "name": "stdout",
          "text": [
            "Enter a hex number: D2909\n",
            "The D2909 in decimal format is: 862473\n"
          ]
        }
      ]
    },
    {
      "cell_type": "markdown",
      "source": [
        "~ ***value = ord(char) - ord('A') + 10*** ~\n",
        "\n",
        "**The ord() function** in Python returns the Unicode code point (or ASCII value) of a character.\n",
        "\n",
        "This means that it gives us a number corresponding to each character in the alphabet or other symbols.\n",
        "\n",
        "*For example:*\n",
        "\n",
        "ord('A') will return 65, because 'A' is the 65th character in the Unicode table.\n",
        "ord('B') will return 66, and so on.\n",
        "\n",
        "~ **Why do we subtract ord('A')?** ~\n",
        "\n",
        "In the hexadecimal system, letters A to F represent values from 10 to 15. So we need to convert the letter 'A' to the number 10, 'B' to 11, and so on.\n",
        "\n",
        "So do this, we subtract ord('A') from ord(char):\n",
        "\n",
        "ord('A') is 65.\n",
        "\n",
        "If char is 'A', then ord('A') - ord('A') gives us 0.\n",
        "\n",
        "If char is 'B', ord('B') - ord('A') gives us 1, which is the decimal value we want for 'B' etc.\n",
        "\n",
        "~ **Why do we add 10?** ~\n",
        "\n",
        "In the hexadecimal system, 'A' starts from 10 (not 0). So, we need to add 10 to the result to get the correct value."
      ],
      "metadata": {
        "id": "dcGLW9--sSNf"
      }
    }
  ]
}