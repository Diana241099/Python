{
  "nbformat": 4,
  "nbformat_minor": 0,
  "metadata": {
    "colab": {
      "provenance": [],
      "authorship_tag": "ABX9TyOwAJu2yvbDFONSSah1iddD",
      "include_colab_link": true
    },
    "kernelspec": {
      "name": "python3",
      "display_name": "Python 3"
    },
    "language_info": {
      "name": "python"
    }
  },
  "cells": [
    {
      "cell_type": "markdown",
      "metadata": {
        "id": "view-in-github",
        "colab_type": "text"
      },
      "source": [
        "<a href=\"https://colab.research.google.com/github/Diana241099/Python/blob/main/binary_to_decimal.ipynb\" target=\"_parent\"><img src=\"https://colab.research.google.com/assets/colab-badge.svg\" alt=\"Open In Colab\"/></a>"
      ]
    },
    {
      "cell_type": "code",
      "execution_count": null,
      "metadata": {
        "colab": {
          "base_uri": "https://localhost:8080/"
        },
        "id": "nGB6m6GSMrqe",
        "outputId": "49a3efc3-05d3-4962-f230-672118c3b99a"
      },
      "outputs": [
        {
          "output_type": "stream",
          "name": "stdout",
          "text": [
            "Enter a binary number: 1010100101\n",
            "The decimal version of 1010100101 is: 677\n"
          ]
        }
      ],
      "source": [
        "#input the binary number\n",
        "binary_number = input(\"Enter a binary number: \")\n",
        "\n",
        "#initialize the decimal value to 0 as a starting point, it will hold the result later on\n",
        "decimal = 0\n",
        "\n",
        "#loop through the binary number from right to left\n",
        "for i in range(len(binary_number)):\n",
        "\n",
        "#access each binary digit from the rightmost side\n",
        "  digit = int(binary_number[-(i + 1)])\n",
        "\n",
        "#calculate the power of 2 for the current position\n",
        "  power_of_two = 2 ** i\n",
        "\n",
        "#after the loop ends, print the decimal value of the binary number\n",
        "  decimal += digit * power_of_two\n",
        "\n",
        "#print the result\n",
        "print(f\"The decimal version of {binary_number} is: {decimal}\")"
      ]
    }
  ]
}